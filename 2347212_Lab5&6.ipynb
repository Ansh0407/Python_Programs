{
 "cells": [
  {
   "cell_type": "markdown",
   "metadata": {},
   "source": [
    "Q1. Write a program to handle the exception of ZeroDivisionError.\n"
   ]
  },
  {
   "cell_type": "code",
   "execution_count": 1,
   "metadata": {},
   "outputs": [
    {
     "name": "stdout",
     "output_type": "stream",
     "text": [
      "Zero division error !!\n",
      "\n",
      " Program Executed Successfully\n",
      "Result: 0.2\n",
      "\n",
      " Program Executed Successfully\n"
     ]
    }
   ],
   "source": [
    "while True:\n",
    "        try:\n",
    "             numerator = int(input(\"Enter the numerator: \"))\n",
    "             denominator = int(input(\"Enter the denominator: \"))\n",
    "             result = numerator / denominator\n",
    "             print(f\"Result: {result}\")\n",
    "             break\n",
    "               \n",
    "        except ZeroDivisionError:\n",
    "             print(\"Zero division error !!\")\n",
    "        except ValueError:\n",
    "             print(\"Invalid input. Please enter valid numbers.\")\n",
    "        finally:\n",
    "             print(\"\\n Program Executed Successfully\")             \n"
   ]
  },
  {
   "cell_type": "markdown",
   "metadata": {},
   "source": [
    "Q2. Write a program to handle the exception of IndexError."
   ]
  },
  {
   "cell_type": "code",
   "execution_count": 2,
   "metadata": {},
   "outputs": [
    {
     "name": "stdout",
     "output_type": "stream",
     "text": [
      "Index is out of bounds.\n",
      "Program Executed Successfully\n",
      "Element at index 1 is: 2\n",
      "Program Executed Successfully\n"
     ]
    }
   ],
   "source": [
    "while True:\n",
    "    try:\n",
    "        my_list = [1, 2, 3,4,5]\n",
    "        index = int(input(\"Enter an index: \"))\n",
    "        result = my_list[index]\n",
    "        print(f\"Element at index {index} is: {result}\")\n",
    "        break\n",
    "\n",
    "    except IndexError:\n",
    "        print(\"Index is out of bounds.\")\n",
    "\n",
    "    except ValueError:\n",
    "        print(\"Invalid input. Please enter a valid integer.\")\n",
    "\n",
    "    finally:\n",
    "        print(\"Program Executed Successfully\")"
   ]
  },
  {
   "cell_type": "markdown",
   "metadata": {},
   "source": [
    "LAB -6"
   ]
  },
  {
   "cell_type": "markdown",
   "metadata": {},
   "source": []
  },
  {
   "cell_type": "markdown",
   "metadata": {},
   "source": [
    " Write a program using the Regular Exception and create a function that accepts a string and searches it for a valid phone number."
   ]
  },
  {
   "cell_type": "code",
   "execution_count": 3,
   "metadata": {},
   "outputs": [
    {
     "name": "stdout",
     "output_type": "stream",
     "text": [
      "Found valid +91 phone number: (123)-456-7890\n",
      "No valid +91 phone number found.\n",
      "Exiting the program.\n"
     ]
    }
   ],
   "source": [
    "import re\n",
    "\n",
    "def find_phone_number(text):\n",
    "    pattern = re.compile(r'\\+91[-.\\s]?(\\(\\d{3}\\)-\\d{3}-\\d{4})')\n",
    "    match = pattern.search(text)\n",
    "    if match:\n",
    "        return match.group(1)\n",
    "    else:\n",
    "        return None\n",
    "\n",
    "while True:\n",
    "    input_text = input(\"Enter a text to search for a valid +91 phone number (or 'exit' to quit): \")\n",
    "    \n",
    "    if input_text.lower() == 'exit':\n",
    "        print(\"Exiting the program.\")\n",
    "        break\n",
    "    \n",
    "    phone_number = find_phone_number(input_text)\n",
    "    if phone_number:\n",
    "        print(\"Found valid +91 phone number:\", phone_number)\n",
    "    else:\n",
    "        print(\"No valid +91 phone number found.\")\n"
   ]
  },
  {
   "cell_type": "markdown",
   "metadata": {},
   "source": [
    " Write a function that employs regular expressions to ensure the password given to the function is strong."
   ]
  },
  {
   "cell_type": "code",
   "execution_count": 5,
   "metadata": {},
   "outputs": [
    {
     "name": "stdout",
     "output_type": "stream",
     "text": [
      "Please enter a strong password:\n",
      "Password is not strong. \n",
      " Please enter a strong password.\n",
      "Password is strong.\n"
     ]
    }
   ],
   "source": [
    "import re\n",
    "\n",
    "def is_strong_password(password):\n",
    "    pattern = re.compile(r'^(?=.*[A-Z])(?=.*[a-z])(?=.*\\d)(?=.*[@$!%*?&])[A-Za-z\\d@$!%*?&]{8,}$')\n",
    "    return bool(pattern.match(password))\n",
    "\n",
    "print(\"Please enter a strong password:\")\n",
    "while True:\n",
    "    input_password = input(\"Enter a password: \")\n",
    "    if is_strong_password(input_password):\n",
    "        print(\"Password is strong.\")\n",
    "        break \n",
    "    else:\n",
    "        print(\"Password is not strong. \\n Please enter a strong password.\")\n"
   ]
  }
 ],
 "metadata": {
  "kernelspec": {
   "display_name": "Python 3",
   "language": "python",
   "name": "python3"
  },
  "language_info": {
   "codemirror_mode": {
    "name": "ipython",
    "version": 3
   },
   "file_extension": ".py",
   "mimetype": "text/x-python",
   "name": "python",
   "nbconvert_exporter": "python",
   "pygments_lexer": "ipython3",
   "version": "3.10.7"
  },
  "orig_nbformat": 4
 },
 "nbformat": 4,
 "nbformat_minor": 2
}
