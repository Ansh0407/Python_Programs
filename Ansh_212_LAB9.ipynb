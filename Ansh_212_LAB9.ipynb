{
 "cells": [
  {
   "cell_type": "markdown",
   "metadata": {},
   "source": [
    "Q1. Write a program to distinguish between Array Indexing and Fancy Indexing."
   ]
  },
  {
   "cell_type": "code",
   "execution_count": 4,
   "metadata": {},
   "outputs": [
    {
     "name": "stdout",
     "output_type": "stream",
     "text": [
      "Original Array:\n",
      "  [[1 2 3]\n",
      " [4 5 6]\n",
      " [7 8 9]]\n",
      "\n",
      " Array Indexing - Accessing a single element:\n",
      "2\n",
      "\n",
      "Array Indexing - Accessing a slice:\n",
      "[[4 5]\n",
      " [7 8]]\n",
      "\n",
      "Fancy Indexing - Accessing elements using arrays of indices:\n",
      "[1 9]\n",
      "\n",
      "Fancy Indexing - Using boolean arrays for filtering:\n",
      "[5 6 7 8 9]\n"
     ]
    }
   ],
   "source": [
    "import numpy as np\n",
    "\n",
    "arr = np.array([[1, 2, 3],\n",
    "                [4, 5, 6],\n",
    "                [7, 8, 9]])\n",
    "\n",
    "print(\"Original Array:\\n \", arr)\n",
    "element_1 = arr[0, 1]  \n",
    "print(\"\\n Array Indexing - Accessing a single element:\")\n",
    "print(element_1)\n",
    "\n",
    "\n",
    "slice_1 = arr[1:3, 0:2] \n",
    "print(\"\\nArray Indexing - Accessing a slice:\")\n",
    "print(slice_1)\n",
    "\n",
    "row_indices = np.array([0, 2])\n",
    "col_indices = np.array([0, 2])\n",
    "elements = arr[row_indices, col_indices]\n",
    "print(\"\\nFancy Indexing - Accessing elements using arrays of indices:\")\n",
    "print(elements)\n",
    "\n",
    "bool_indices = arr > 4\n",
    "filtered_elements = arr[bool_indices]\n",
    "print(\"\\nFancy Indexing - Using boolean arrays for filtering:\")\n",
    "print(filtered_elements)\n"
   ]
  },
  {
   "cell_type": "markdown",
   "metadata": {},
   "source": [
    "Q2. Execute the 2D array Slicing."
   ]
  },
  {
   "cell_type": "code",
   "execution_count": 8,
   "metadata": {},
   "outputs": [
    {
     "name": "stdout",
     "output_type": "stream",
     "text": [
      "Original array:\n",
      "  [[ 1  2  3  4]\n",
      " [ 5  6  7  8]\n",
      " [ 9 10 11 12]\n",
      " [13 14 15 16]]\n",
      "\n",
      " Sliced Rows:\n",
      "[[ 5  6  7  8]\n",
      " [ 9 10 11 12]]\n",
      "\n",
      "Sliced Columns:\n",
      "[[ 2  3]\n",
      " [ 6  7]\n",
      " [10 11]\n",
      " [14 15]]\n",
      "\n",
      "Sliced Submatrix:\n",
      "[[ 6  7]\n",
      " [10 11]]\n"
     ]
    }
   ],
   "source": [
    "import numpy as np\n",
    "\n",
    "arr = np.array([[1, 2, 3, 4],\n",
    "                [5, 6, 7, 8],\n",
    "                [9, 10, 11, 12],\n",
    "                [13, 14, 15, 16]])\n",
    "\n",
    "\n",
    "print(\"Original array:\\n \", arr)\n",
    "\n",
    "sliced_rows = arr[1:3, :]\n",
    "print(\"\\n Sliced Rows:\")\n",
    "print(sliced_rows)\n",
    "\n",
    "sliced_cols = arr[:, 1:3]\n",
    "print(\"\\nSliced Columns:\")\n",
    "print(sliced_cols)\n",
    "\n",
    "submatrix = arr[1:3, 1:3]\n",
    "print(\"\\nSliced Submatrix:\")\n",
    "print(submatrix)\n"
   ]
  },
  {
   "cell_type": "markdown",
   "metadata": {},
   "source": [
    "Q3. Create the 5-Dimensional arrays using ‘ndmin’."
   ]
  },
  {
   "cell_type": "code",
   "execution_count": 10,
   "metadata": {},
   "outputs": [
    {
     "name": "stdout",
     "output_type": "stream",
     "text": [
      "[[[[[1 2 3 4 5]]]]]\n",
      "Shape of the 5-dimensional array: (1, 1, 1, 1, 5)\n"
     ]
    }
   ],
   "source": [
    "import numpy as np\n",
    "\n",
    "five_dim_array = np.array([1, 2, 3, 4, 5], ndmin=5)\n",
    "print(five_dim_array)\n",
    "\n",
    "print(\"Shape of the 5-dimensional array:\", five_dim_array.shape)\n"
   ]
  },
  {
   "cell_type": "markdown",
   "metadata": {},
   "source": [
    "Q4. Reshape the array from 1-D to 2-D array."
   ]
  },
  {
   "cell_type": "code",
   "execution_count": 1,
   "metadata": {},
   "outputs": [
    {
     "name": "stdout",
     "output_type": "stream",
     "text": [
      "[[1 2 3]\n",
      " [4 5 6]]\n"
     ]
    }
   ],
   "source": [
    "import numpy as np\n",
    "\n",
    "original_array = np.array([1, 2, 3, 4, 5, 6])\n",
    "reshaped_array = original_array.reshape(2, 3)\n",
    "\n",
    "print(reshaped_array)\n"
   ]
  },
  {
   "cell_type": "markdown",
   "metadata": {},
   "source": [
    "Q5. Perform the Stack functions in Numpy arrays – Stack(), hstack(), vstack(), and dstack()."
   ]
  },
  {
   "cell_type": "code",
   "execution_count": 2,
   "metadata": {},
   "outputs": [
    {
     "name": "stdout",
     "output_type": "stream",
     "text": [
      "Stacked Array using np.stack():\n",
      "[[1 2 3]\n",
      " [4 5 6]]\n",
      "\n",
      "Horizontally Stacked Array using np.hstack():\n",
      "[1 2 3 4 5 6]\n",
      "\n",
      "Vertically Stacked Array using np.vstack():\n",
      "[[1 2 3]\n",
      " [4 5 6]]\n",
      "\n",
      "Depth-wise Stacked Array using np.dstack():\n",
      "[[[1 4]\n",
      "  [2 5]\n",
      "  [3 6]]]\n"
     ]
    }
   ],
   "source": [
    "import numpy as np\n",
    "\n",
    "arr1 = np.array([1, 2, 3])\n",
    "arr2 = np.array([4, 5, 6])\n",
    "\n",
    "stacked_array = np.stack((arr1, arr2), axis=0)\n",
    "\n",
    "hstacked_array = np.hstack((arr1, arr2))\n",
    "\n",
    "vstacked_array = np.vstack((arr1, arr2))\n",
    "\n",
    "dstacked_array = np.dstack((arr1, arr2))\n",
    "\n",
    "print(\"Stacked Array using np.stack():\")\n",
    "print(stacked_array)\n",
    "print(\"\\nHorizontally Stacked Array using np.hstack():\")\n",
    "print(hstacked_array)\n",
    "print(\"\\nVertically Stacked Array using np.vstack():\")\n",
    "print(vstacked_array)\n",
    "print(\"\\nDepth-wise Stacked Array using np.dstack():\")\n",
    "print(dstacked_array)\n"
   ]
  },
  {
   "cell_type": "markdown",
   "metadata": {},
   "source": [
    "Q6. Perform the searchsort method in Numpy array."
   ]
  },
  {
   "cell_type": "code",
   "execution_count": 13,
   "metadata": {},
   "outputs": [
    {
     "name": "stdout",
     "output_type": "stream",
     "text": [
      "The value 5 should be inserted at index 3 to maintain sorting.\n"
     ]
    }
   ],
   "source": [
    "import numpy as np\n",
    "\n",
    "sorted_array = np.array([1, 3, 4, 7, 9, 12])\n",
    "value = 5\n",
    "\n",
    "index_to_insert = np.searchsorted(sorted_array, value)\n",
    "print(f\"The value {value} should be inserted at index {index_to_insert} to maintain sorting.\")\n"
   ]
  },
  {
   "cell_type": "markdown",
   "metadata": {},
   "source": [
    "Q7. Create Numpy Structured array using your domain features."
   ]
  },
  {
   "cell_type": "code",
   "execution_count": 28,
   "metadata": {},
   "outputs": [
    {
     "name": "stdout",
     "output_type": "stream",
     "text": [
      "Student Information:\n",
      "[(1, 'Ansh', 20) (2, 'Adhish', 22) (3, 'Anurag', 21)]\n",
      "\n",
      "Course Information:\n",
      "[(101, 'COD', 3. ) (102, 'Python', 4. ) (103, 'C', 3.5)]\n",
      "\n",
      "Enrollment Information:\n",
      "[(1, 101, '2023-09-15') (2, 102, '2023-09-16') (3, 103, '2023-09-05')]\n"
     ]
    }
   ],
   "source": [
    "import numpy as np\n",
    "\n",
    "\n",
    "student_dtype = np.dtype([\n",
    "    ('student_id', 'int32'),\n",
    "    ('student_name', 'U50'),\n",
    "    ('student_age', 'int32'),\n",
    "])\n",
    "\n",
    "course_dtype = np.dtype([\n",
    "    ('course_id', 'int32'),\n",
    "    ('course_name', 'U50'),\n",
    "    ('course_credits', 'float64'),\n",
    "])\n",
    "\n",
    "\n",
    "enrollment_dtype = np.dtype([\n",
    "    ('student_id', 'int32'),\n",
    "    ('course_id', 'int32'),\n",
    "    ('date', 'datetime64[D]'),\n",
    "])\n",
    "\n",
    "\n",
    "students = np.array([\n",
    "    (1, 'Ansh', 20),\n",
    "    (2, 'Adhish', 22),\n",
    "    (3, 'Anurag', 21),\n",
    "], dtype=student_dtype)\n",
    "\n",
    "courses = np.array([\n",
    "    (101, 'COD', 3.0),\n",
    "    (102, 'Python', 4.0),\n",
    "    (103, 'C', 3.5),\n",
    "], dtype=course_dtype)\n",
    "\n",
    "enrollments = np.array([\n",
    "    (1, 101,'2023-09-15'),\n",
    "    (2, 102,'2023-09-16'),\n",
    "    (3, 103,'2023-09-05'),\n",
    "], dtype=enrollment_dtype)\n",
    "\n",
    "print(\"Student Information:\")\n",
    "print(students)\n",
    "print(\"\\nCourse Information:\")\n",
    "print(courses)\n",
    "print(\"\\nEnrollment Information:\")\n",
    "print(enrollments)\n"
   ]
  },
  {
   "cell_type": "markdown",
   "metadata": {},
   "source": [
    "Q8. Create Data frame using List and Dictionary."
   ]
  },
  {
   "cell_type": "code",
   "execution_count": 20,
   "metadata": {},
   "outputs": [
    {
     "name": "stdout",
     "output_type": "stream",
     "text": [
      "Students DataFrame:\n",
      "   student_id student_name  student_age\n",
      "0           1        Alice           20\n",
      "1           2          Bob           22\n",
      "2           3      Charlie           21\n",
      "\n",
      "Courses DataFrame:\n",
      "   course_id course_name  course_credits\n",
      "0        101        Math             3.0\n",
      "1        102     Physics             4.0\n",
      "2        103     History             3.5\n"
     ]
    }
   ],
   "source": [
    "import pandas as pd\n",
    "\n",
    "\n",
    "students_data = [\n",
    "    {'student_id': 1, 'student_name': 'Alice', 'student_age': 20},\n",
    "    {'student_id': 2, 'student_name': 'Bob', 'student_age': 22},\n",
    "    {'student_id': 3, 'student_name': 'Charlie', 'student_age': 21}\n",
    "]\n",
    "\n",
    "courses_data = [\n",
    "    {'course_id': 101, 'course_name': 'Math', 'course_credits': 3.0},\n",
    "    {'course_id': 102, 'course_name': 'Physics', 'course_credits': 4.0},\n",
    "    {'course_id': 103, 'course_name': 'History', 'course_credits': 3.5}\n",
    "]\n",
    "\n",
    "students_df = pd.DataFrame(students_data)\n",
    "courses_df = pd.DataFrame(courses_data)\n",
    "\n",
    "print(\"Students DataFrame:\")\n",
    "print(students_df)\n",
    "\n",
    "print(\"\\nCourses DataFrame:\")\n",
    "print(courses_df)\n"
   ]
  },
  {
   "cell_type": "code",
   "execution_count": null,
   "metadata": {},
   "outputs": [],
   "source": [
    "Q9. Create Data frame on your Domain area and perform the following operations to find and eliminate the\n",
    "missing data from the dataset.\n",
    "• isnull()\n",
    "• notnull()\n",
    "• dropna()\n",
    "• fillna()\n",
    "• replace()\n",
    "• interpolate()\n"
   ]
  },
  {
   "cell_type": "code",
   "execution_count": 27,
   "metadata": {},
   "outputs": [
    {
     "name": "stdout",
     "output_type": "stream",
     "text": [
      "Original DataFrame:\n",
      "      Name   Age  Score\n",
      "0    Alice  25.0   95.0\n",
      "1      Bob   NaN   88.0\n",
      "2  Charlie  30.0    NaN\n",
      "3    David  22.0   75.0\n",
      "4      Eve  28.0    NaN\n",
      "5    Frank  35.0   90.0\n",
      "6    Grace   NaN   82.0\n",
      "7    Helen  27.0    NaN\n",
      "8      Ivy   NaN   78.0\n",
      "9     Jack  32.0   94.0\n",
      "\n",
      "1. Missing Data (True indicates missing data):\n",
      "\n",
      "    Name    Age  Score\n",
      "0  False  False  False\n",
      "1  False   True  False\n",
      "2  False  False   True\n",
      "3  False  False  False\n",
      "4  False  False   True\n",
      "5  False  False  False\n",
      "6  False   True  False\n",
      "7  False  False   True\n",
      "8  False   True  False\n",
      "9  False  False  False\n",
      "\n",
      "2. Non-Missing Data (True indicates non-missing data):\n",
      "\n",
      "   Name    Age  Score\n",
      "0  True   True   True\n",
      "1  True  False   True\n",
      "2  True   True  False\n",
      "3  True   True   True\n",
      "4  True   True  False\n",
      "5  True   True   True\n",
      "6  True  False   True\n",
      "7  True   True  False\n",
      "8  True  False   True\n",
      "9  True   True   True\n",
      "\n",
      "3. DataFrame after using dropna():\n",
      "\n",
      "    Name   Age  Score\n",
      "0  Alice  25.0   95.0\n",
      "3  David  22.0   75.0\n",
      "5  Frank  35.0   90.0\n",
      "9   Jack  32.0   94.0\n",
      "\n",
      "4. DataFrame after using fillna():\n",
      "\n",
      "      Name        Age  Score\n",
      "0    Alice  25.000000   95.0\n",
      "1      Bob  28.428571   88.0\n",
      "2  Charlie  30.000000   88.0\n",
      "3    David  22.000000   75.0\n",
      "4      Eve  28.000000   88.0\n",
      "5    Frank  35.000000   90.0\n",
      "6    Grace  28.428571   82.0\n",
      "7    Helen  27.000000   88.0\n",
      "8      Ivy  28.428571   78.0\n",
      "9     Jack  32.000000   94.0\n",
      "\n",
      "5. DataFrame after using replace():\n",
      "\n",
      "      Name   Age  Score\n",
      "0    Alice  25.0   95.0\n",
      "1      Bob  -1.0   88.0\n",
      "2  Charlie  30.0   -1.0\n",
      "3    David  22.0   75.0\n",
      "4      Eve  28.0   -1.0\n",
      "5    Frank  35.0   90.0\n",
      "6    Grace  -1.0   82.0\n",
      "7    Helen  27.0   -1.0\n",
      "8      Ivy  -1.0   78.0\n",
      "9     Jack  32.0   94.0\n",
      "\n",
      "6. DataFrame after using interpolate():\n",
      "\n",
      "      Name   Age  Score\n",
      "0    Alice  25.0   95.0\n",
      "1      Bob  27.5   88.0\n",
      "2  Charlie  30.0   81.5\n",
      "3    David  22.0   75.0\n",
      "4      Eve  28.0   82.5\n",
      "5    Frank  35.0   90.0\n",
      "6    Grace  31.0   82.0\n",
      "7    Helen  27.0   80.0\n",
      "8      Ivy  29.5   78.0\n",
      "9     Jack  32.0   94.0\n"
     ]
    }
   ],
   "source": [
    "import pandas as pd\n",
    "import numpy as np\n",
    "\n",
    "data = {\n",
    "    'Name': ['Alice', 'Bob', 'Charlie', 'David', 'Eve', 'Frank', 'Grace', 'Helen', 'Ivy', 'Jack'],\n",
    "    'Age': [25, None, 30, 22, 28, 35, None, 27, None, 32],\n",
    "    'Score': [95, 88, None, 75, None, 90, 82, None, 78, 94]\n",
    "}\n",
    "\n",
    "df = pd.DataFrame(data)\n",
    "\n",
    "print(\"Original DataFrame:\")\n",
    "print(df)\n",
    "\n",
    "missing_data = df.isnull()\n",
    "print(\"\\n1. Missing Data (True indicates missing data):\\n\")\n",
    "print(missing_data)\n",
    "\n",
    "\n",
    "non_missing_data = df.notnull()\n",
    "print(\"\\n2. Non-Missing Data (True indicates non-missing data):\\n\")\n",
    "print(non_missing_data)\n",
    "\n",
    "\n",
    "df_dropped = df.dropna()\n",
    "print(\"\\n3. DataFrame after using dropna():\\n\")\n",
    "print(df_dropped)\n",
    "\n",
    "\n",
    "df_filled = df.fillna({'Age': df['Age'].mean(), 'Score': df['Score'].median()})\n",
    "print(\"\\n4. DataFrame after using fillna():\\n\")\n",
    "print(df_filled)\n",
    "\n",
    "\n",
    "df_replaced = df.replace(np.nan, -1)\n",
    "print(\"\\n5. DataFrame after using replace():\\n\")\n",
    "print(df_replaced)\n",
    "\n",
    "df_interpolated = df.interpolate()\n",
    "print(\"\\n6. DataFrame after using interpolate():\\n\")\n",
    "print(df_interpolated)\n"
   ]
  },
  {
   "cell_type": "markdown",
   "metadata": {},
   "source": [
    "Q10. Perform the Hierarchical Indexing in the above created dataset."
   ]
  },
  {
   "cell_type": "code",
   "execution_count": 24,
   "metadata": {},
   "outputs": [
    {
     "name": "stdout",
     "output_type": "stream",
     "text": [
      "DataFrame with Hierarchical Indexing:\n",
      "              Score\n",
      "Name    Age        \n",
      "Alice   25.0   95.0\n",
      "Bob     NaN    88.0\n",
      "Charlie 30.0    NaN\n",
      "David   22.0   75.0\n",
      "Eve     28.0    NaN\n",
      "Frank   35.0   90.0\n",
      "Grace   NaN    82.0\n",
      "Helen   27.0    NaN\n",
      "Ivy     NaN    78.0\n",
      "Jack    32.0   94.0\n"
     ]
    }
   ],
   "source": [
    "import pandas as pd\n",
    "import numpy as np\n",
    "\n",
    "data = {\n",
    "    'Name': ['Alice', 'Bob', 'Charlie', 'David', 'Eve', 'Frank', 'Grace', 'Helen', 'Ivy', 'Jack'],\n",
    "    'Age': [25, None, 30, 22, 28, 35, None, 27, None, 32],\n",
    "    'Score': [95, 88, None, 75, None, 90, 82, None, 78, 94]\n",
    "}\n",
    "\n",
    "df = pd.DataFrame(data)\n",
    "\n",
    "\n",
    "df.set_index(['Name', 'Age'], inplace=True)\n",
    "\n",
    "print(\"DataFrame with Hierarchical Indexing:\")\n",
    "print(df)\n"
   ]
  }
 ],
 "metadata": {
  "kernelspec": {
   "display_name": "Python 3",
   "language": "python",
   "name": "python3"
  },
  "language_info": {
   "codemirror_mode": {
    "name": "ipython",
    "version": 3
   },
   "file_extension": ".py",
   "mimetype": "text/x-python",
   "name": "python",
   "nbconvert_exporter": "python",
   "pygments_lexer": "ipython3",
   "version": "3.10.7"
  },
  "orig_nbformat": 4
 },
 "nbformat": 4,
 "nbformat_minor": 2
}
