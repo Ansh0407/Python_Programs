{
 "cells": [
  {
   "cell_type": "markdown",
   "metadata": {},
   "source": [
    " Q.1 Create two 3×3 matrices using the random function in Numpy and perform the following operations.\n",
    " Product (prod)\n",
    " Multiplication (multiply)\n",
    " Dot Product (dot)\n"
   ]
  },
  {
   "cell_type": "code",
   "execution_count": 11,
   "metadata": {},
   "outputs": [
    {
     "name": "stdout",
     "output_type": "stream",
     "text": [
      "----------------------------------------------------\n",
      "Matrix 1:\n",
      "[[2 6 6]\n",
      " [6 1 6]\n",
      " [0 7 8]]\n",
      "----------------------------------------------------\n",
      "Matrix 2:\n",
      "[[5 2 0]\n",
      " [5 2 9]\n",
      " [1 9 6]]\n",
      "----------------------------------------------------\n",
      "Product:\n",
      "[    0  3780 15552]\n",
      "----------------------------------------------------\n",
      "Multiplication:\n",
      "[[10 12  0]\n",
      " [30  2 54]\n",
      " [ 0 63 48]]\n",
      "----------------------------------------------------\n",
      "Dot Product:\n",
      "[[ 46  70  90]\n",
      " [ 41  68  45]\n",
      " [ 43  86 111]]\n",
      "----------------------------------------------------\n"
     ]
    }
   ],
   "source": [
    "import numpy as np\n",
    "\n",
    "matrix_1 = np.random.randint(10, size=(3, 3))\n",
    "matrix_2 = np.random.randint(10, size=(3, 3))\n",
    "\n",
    "print(\"----------------------------------------------------\")\n",
    "print(\"Matrix 1:\")\n",
    "print(matrix_1)\n",
    "print(\"----------------------------------------------------\")\n",
    "print(\"Matrix 2:\")\n",
    "print(matrix_2)\n",
    "print(\"----------------------------------------------------\")\n",
    "product = np.prod(matrix_1, axis=0) * np.prod(matrix_2, axis=1)\n",
    "print(\"Product:\")\n",
    "print(product)\n",
    "print(\"----------------------------------------------------\")\n",
    "multiplication = matrix_1 * matrix_2\n",
    "print(\"Multiplication:\")\n",
    "print(multiplication)\n",
    "print(\"----------------------------------------------------\")\n",
    "dot_product = np.dot(matrix_1, matrix_2)\n",
    "print(\"Dot Product:\")\n",
    "print(dot_product)\n",
    "print(\"----------------------------------------------------\")"
   ]
  },
  {
   "cell_type": "markdown",
   "metadata": {},
   "source": [
    "Q2. Perform the following set operations using the Numpy functions.\n",
    "è Union\n",
    "è Intersection\n",
    "è Set difference\n",
    "è XOR"
   ]
  },
  {
   "cell_type": "code",
   "execution_count": 12,
   "metadata": {},
   "outputs": [
    {
     "name": "stdout",
     "output_type": "stream",
     "text": [
      "Union:\n",
      "[1 2 3 4 5 6 7]\n",
      "Intersection:\n",
      "[3 4 5]\n",
      "Set difference:\n",
      "[1 2]\n",
      "XOR:\n",
      "[1 2 6 7]\n"
     ]
    }
   ],
   "source": [
    "import numpy as np\n",
    "\n",
    "set_1 = np.array([1, 2, 3, 4, 5])\n",
    "set_2 = np.array([3, 4, 5, 6, 7])\n",
    "\n",
    "\n",
    "union = np.union1d(set_1, set_2)\n",
    "print(\"Union:\")\n",
    "print(union)\n",
    "\n",
    "intersection = np.intersect1d(set_1, set_2)\n",
    "print(\"Intersection:\")\n",
    "print(intersection)\n",
    "\n",
    "difference = np.setdiff1d(set_1, set_2)\n",
    "print(\"Set difference:\")\n",
    "print(difference)\n",
    "\n",
    "xor = np.setxor1d(set_1, set_2)\n",
    "print(\"XOR:\")\n",
    "print(xor)"
   ]
  },
  {
   "cell_type": "markdown",
   "metadata": {},
   "source": [
    "Q3. Create a 1D array using Random function and perform the following operations.\n",
    "è Cumulative sum\n",
    "è Cumulative Product\n",
    "è Discrete difference (with n=3)\n",
    "è Find the unique elements from the array"
   ]
  },
  {
   "cell_type": "code",
   "execution_count": 13,
   "metadata": {},
   "outputs": [
    {
     "name": "stdout",
     "output_type": "stream",
     "text": [
      "Original array:\n",
      "[0 2 8 5 3 3 8 1 7 7]\n",
      "Cumulative sum:\n",
      "[ 0  2 10 15 18 21 29 30 37 44]\n",
      "Cumulative product:\n",
      "[0 0 0 0 0 0 0 0 0 0]\n",
      "Discrete difference (with n=3):\n",
      "[-13  10   1   3 -17  25 -19]\n",
      "Unique elements:\n",
      "[0 1 2 3 5 7 8]\n"
     ]
    }
   ],
   "source": [
    "import numpy as np\n",
    "\n",
    "array = np.random.randint(10, size=10)\n",
    "\n",
    "print(\"Original array:\")\n",
    "print(array)\n",
    "\n",
    "cumulative_sum = np.cumsum(array)\n",
    "print(\"Cumulative sum:\")\n",
    "print(cumulative_sum)\n",
    "\n",
    "cumulative_product = np.cumprod(array)\n",
    "print(\"Cumulative product:\")\n",
    "print(cumulative_product)\n",
    "\n",
    "discrete_difference = np.diff(array, n=3)\n",
    "print(\"Discrete difference (with n=3):\")\n",
    "print(discrete_difference)\n",
    "\n",
    "unique_elements = np.unique(array)\n",
    "print(\"Unique elements:\")\n",
    "print(unique_elements)"
   ]
  },
  {
   "cell_type": "markdown",
   "metadata": {},
   "source": [
    "Q4. Create two 1D array and perform the Addition using zip(), add() and user defined function (frompyfunc())"
   ]
  },
  {
   "cell_type": "code",
   "execution_count": 14,
   "metadata": {},
   "outputs": [
    {
     "name": "stdout",
     "output_type": "stream",
     "text": [
      "Array 1: [1 2 3 4 5]\n",
      "Array 2: [10 20 30 40 50]\n",
      "\n",
      "Addition using zip(): [11 22 33 44 55]\n",
      "Addition using np.add(): [11 22 33 44 55]\n",
      "Addition using user-defined function: [11 22 33 44 55]\n"
     ]
    }
   ],
   "source": [
    "import numpy as np\n",
    "\n",
    "# Create two 1D arrays\n",
    "array1 = np.array([1, 2, 3, 4, 5])\n",
    "array2 = np.array([10, 20, 30, 40, 50])\n",
    "\n",
    "# Addition using zip()\n",
    "result_zip = np.array([a + b for a, b in zip(array1, array2)])\n",
    "\n",
    "# Addition using np.add()\n",
    "result_np_add = np.add(array1, array2)\n",
    "\n",
    "# User-defined addition function\n",
    "def user_defined_add(x, y):\n",
    "    return x + y\n",
    "\n",
    "# Create a ufunc from the user-defined function\n",
    "ufunc = np.frompyfunc(user_defined_add, 2, 1)\n",
    "\n",
    "# Addition using the user-defined function\n",
    "result_user_defined = ufunc(array1, array2)\n",
    "\n",
    "# Print the results\n",
    "print(\"Array 1:\", array1)\n",
    "print(\"Array 2:\", array2)\n",
    "print(\"\\nAddition using zip():\", result_zip)\n",
    "print(\"Addition using np.add():\", result_np_add)\n",
    "print(\"Addition using user-defined function:\", result_user_defined)"
   ]
  },
  {
   "cell_type": "markdown",
   "metadata": {},
   "source": [
    "Q5. Find the LCM (Least Common Multiple) and GCD (Greatest Common Divisor) of an array of elements using reduce()."
   ]
  },
  {
   "cell_type": "code",
   "execution_count": 15,
   "metadata": {},
   "outputs": [
    {
     "name": "stdout",
     "output_type": "stream",
     "text": [
      "The LCM of [10, 20, 30] is 60\n",
      "The GCD of [10, 20, 30] is 10\n"
     ]
    }
   ],
   "source": [
    "from functools import reduce\n",
    "\n",
    "def lcm(numbers):\n",
    "  \"\"\"Find the least common multiple of a list of numbers.\"\"\"\n",
    "  def gcd(a, b):\n",
    "    while b:\n",
    "      a, b = b, a % b\n",
    "    return a\n",
    "  result = numbers[0]\n",
    "  for number in numbers[1:]:\n",
    "    result = result * number // gcd(result, number)\n",
    "  return result\n",
    "\n",
    "def gcd(numbers):\n",
    "  \"\"\"Find the greatest common divisor of a list of numbers.\"\"\"\n",
    "  def lcm(a, b):\n",
    "    while b:\n",
    "      a, b = b, a % b\n",
    "    return a\n",
    "  result = numbers[0]\n",
    "  for number in numbers[1:]:\n",
    "    result = lcm(result, number)\n",
    "  return result\n",
    "\n",
    "def main():\n",
    "  numbers = [10, 20, 30]\n",
    "  print(\"The LCM of\", numbers, \"is\", lcm(numbers))\n",
    "  print(\"The GCD of\", numbers, \"is\", gcd(numbers))\n",
    "\n",
    "if __name__ == \"__main__\":\n",
    "  main()\n"
   ]
  }
 ],
 "metadata": {
  "kernelspec": {
   "display_name": "Python 3",
   "language": "python",
   "name": "python3"
  },
  "language_info": {
   "codemirror_mode": {
    "name": "ipython",
    "version": 3
   },
   "file_extension": ".py",
   "mimetype": "text/x-python",
   "name": "python",
   "nbconvert_exporter": "python",
   "pygments_lexer": "ipython3",
   "version": "3.10.7"
  },
  "orig_nbformat": 4
 },
 "nbformat": 4,
 "nbformat_minor": 2
}
